{
 "cells": [
  {
   "cell_type": "code",
   "execution_count": 1,
   "metadata": {},
   "outputs": [],
   "source": [
    "import torch\n",
    "from torch.utils.data import TensorDataset, DataLoader\n",
    "from torch import Tensor\n",
    "from torch import optim\n",
    "from torch.optim.adam import Adam\n",
    "\n",
    "from torchvision.datasets import CIFAR10 # type: ignore\n",
    "from torchvision.transforms import Compose, ToTensor, Normalize, Lambda # type: ignore\n",
    "\n",
    "import utils\n",
    "\n",
    "import matplotlib.pyplot as plt"
   ]
  },
  {
   "cell_type": "code",
   "execution_count": 2,
   "metadata": {},
   "outputs": [
    {
     "name": "stdout",
     "output_type": "stream",
     "text": [
      "Files already downloaded and verified\n",
      "Files already downloaded and verified\n"
     ]
    }
   ],
   "source": [
    "class RGB2YUV:\n",
    "    @staticmethod\n",
    "    def __call__(rgb: Tensor) -> Tensor:     \n",
    "        m = torch.tensor([[0.29900, -0.16874,  0.50000],\n",
    "                          [0.58700, -0.33126, -0.41869],\n",
    "                          [0.11400,  0.50000, -0.08131]])\n",
    "        \n",
    "        yuv = (rgb.permute(1, 2, 0) @ m).permute(2, 0, 1)\n",
    "        yuv[1:, :, :] += 0.5\n",
    "        return yuv\n",
    "\n",
    "\n",
    "class Normalization:\n",
    "    m: Tensor\n",
    "    s: Tensor\n",
    "\n",
    "    def __init__(self, kernel_size: int = 7, sigma: float = 1.0) -> None:\n",
    "        self.kernel_size = kernel_size\n",
    "        self.sigma = sigma\n",
    "\n",
    "    @property\n",
    "    def gaussian_kernel(self) -> Tensor:\n",
    "        x = torch.arange(self.kernel_size).float() - self.kernel_size // 2\n",
    "        gaussian_1d = torch.exp(-0.5 * (x / self.sigma).pow(2))\n",
    "        gaussian_2d = gaussian_1d[:, None] * gaussian_1d[None, :]\n",
    "        gaussian_2d /= gaussian_2d.sum()\n",
    "        return gaussian_2d.expand(1, 1, -1, -1)\n",
    "\n",
    "    def fit(self, imgs: Tensor) -> None:\n",
    "        uv_channels = imgs[:, 1:]\n",
    "        self.m = uv_channels.mean((0, 2, 3), keepdims=True)\n",
    "        self.s = uv_channels.std((0, 2, 3), keepdims=True)\n",
    "\n",
    "    def transform(self, imgs: Tensor) -> Tensor:\n",
    "        y_channel = imgs[:, :1]\n",
    "        uv_channels = imgs[:, 1:]\n",
    "        \n",
    "        y_blurred = torch.nn.functional.conv2d(y_channel, self.gaussian_kernel, padding=self.kernel_size // 2)\n",
    "        y_normalized = y_channel - y_blurred\n",
    "        y_normalized /= y_normalized.std((2, 3), keepdims=True) + 1e-5\n",
    "        \n",
    "        uv_normalized = (uv_channels - self.m) / self.s\n",
    "\n",
    "        return torch.cat([y_normalized, uv_normalized], 1)\n",
    "\n",
    "    def fit_transform(self, imgs: Tensor) -> Tensor:\n",
    "        self.fit(imgs)\n",
    "        return self.transform(imgs)\n",
    "\n",
    "\n",
    "class StandardScaler:\n",
    "    m: Tensor\n",
    "    s: Tensor\n",
    "\n",
    "    def __init__(self, dims: int | tuple[int, ...]):\n",
    "        self.dims = dims\n",
    "\n",
    "    def fit(self, t: torch.Tensor):\n",
    "        self.m = t.mean(self.dims, keepdims=True)\n",
    "        self.s = t.std(self.dims, keepdims=True)\n",
    "\n",
    "    def transform(self, t: Tensor):\n",
    "        return (t - self.m) / self.s\n",
    "\n",
    "    def fit_transform(self, t: Tensor):\n",
    "        self.fit(t)\n",
    "        return self.transform(t)\n",
    "\n",
    "\n",
    "def get_images(dataset):\n",
    "    return torch.stack([el[0] for el in dataset])\n",
    "\n",
    "\n",
    "def get_targets(dataset):\n",
    "    return torch.tensor([el[1] for el in dataset])\n",
    "\n",
    "\n",
    "transform = Compose([\n",
    "    ToTensor(),\n",
    "    RGB2YUV(),\n",
    "])\n",
    "\n",
    "raw_train_dataset = CIFAR10(root='./data', train=True, download=True, transform=transform)\n",
    "raw_test_dataset = CIFAR10(root='./data', train=False, download=True, transform=transform)\n",
    "\n",
    "norm = Normalization()\n",
    "train_dataset = TensorDataset(norm.fit_transform(get_images(raw_train_dataset)), get_targets(raw_train_dataset))\n",
    "test_dataset = TensorDataset(norm.transform(get_images(raw_test_dataset)), get_targets(raw_test_dataset))\n",
    "\n",
    "# transform = Compose([\n",
    "#     # transforms.Resize((224, 224)),\n",
    "#     ToTensor(),\n",
    "#     Normalize((0.5, 0.5, 0.5), (0.5, 0.5, 0.5))  # Normalize as required\n",
    "# ])\n",
    "\n",
    "# train_dataset = CIFAR10(root='./data', train=True, download=True, transform=transform)\n",
    "# test_dataset = CIFAR10(root='./data', train=False, download=True, transform=transform)"
   ]
  },
  {
   "cell_type": "code",
   "execution_count": 3,
   "metadata": {},
   "outputs": [],
   "source": [
    "train_loader: DataLoader[tuple[Tensor, Tensor]] = DataLoader(train_dataset, batch_size=128, shuffle=True, drop_last=True)\n",
    "test_loader: DataLoader[tuple[Tensor, Tensor]] = DataLoader(test_dataset, batch_size=1000, shuffle=False)"
   ]
  },
  {
   "cell_type": "code",
   "execution_count": 4,
   "metadata": {},
   "outputs": [],
   "source": [
    "cfgs = {\n",
    "    'VGG11': [64, 'M', 128, 'M', 256, 256, 'M', 512, 512, 'M', 512, 512, 'M'],\n",
    "    'VGG13': [64, 64, 'M', 128, 128, 'M', 256, 256, 'M', 512, 512, 'M', 512, 512, 'M'],\n",
    "    'VGG16': [64, 64, 'M', 128, 128, 'M', 256, 256, 256, 'M', 512, 512, 512, 'M', 512, 512, 512, 'M'],\n",
    "    'VGG19': [64, 64, 'M', 128, 128, 'M', 256, 256, 256, 256, 'M', 512, 512, 512, 512, 'M', 512, 512, 512, 512, 'M'],\n",
    "}"
   ]
  },
  {
   "cell_type": "code",
   "execution_count": 5,
   "metadata": {},
   "outputs": [],
   "source": [
    "vgg = utils.VGG(cfgs['VGG16'])\n",
    "\n",
    "optimizer = optim.SGD(vgg.parameters(), lr=0.1, momentum=0.9, weight_decay=0.0005)\n",
    "scheduler = optim.lr_scheduler.StepLR(optimizer, step_size=25, gamma=0.5)"
   ]
  },
  {
   "cell_type": "code",
   "execution_count": 6,
   "metadata": {},
   "outputs": [
    {
     "name": "stderr",
     "output_type": "stream",
     "text": [
      "Failed to detect the name of this notebook, you can set it manually with the WANDB_NOTEBOOK_NAME environment variable to enable code saving.\n",
      "\u001b[34m\u001b[1mwandb\u001b[0m: Currently logged in as: \u001b[33mantonii-belyshev\u001b[0m. Use \u001b[1m`wandb login --relogin`\u001b[0m to force relogin\n"
     ]
    },
    {
     "data": {
      "text/html": [
       "Tracking run with wandb version 0.17.7"
      ],
      "text/plain": [
       "<IPython.core.display.HTML object>"
      ]
     },
     "metadata": {},
     "output_type": "display_data"
    },
    {
     "data": {
      "text/html": [
       "Run data is saved locally in <code>/home/coder/project/wandb/run-20240827_111640-9abs5pm6</code>"
      ],
      "text/plain": [
       "<IPython.core.display.HTML object>"
      ]
     },
     "metadata": {},
     "output_type": "display_data"
    },
    {
     "data": {
      "text/html": [
       "Syncing run <strong><a href='https://wandb.ai/antonii-belyshev/neuron%20sparsity/runs/9abs5pm6' target=\"_blank\">default experiment</a></strong> to <a href='https://wandb.ai/antonii-belyshev/neuron%20sparsity' target=\"_blank\">Weights & Biases</a> (<a href='https://wandb.me/run' target=\"_blank\">docs</a>)<br/>"
      ],
      "text/plain": [
       "<IPython.core.display.HTML object>"
      ]
     },
     "metadata": {},
     "output_type": "display_data"
    },
    {
     "data": {
      "text/html": [
       " View project at <a href='https://wandb.ai/antonii-belyshev/neuron%20sparsity' target=\"_blank\">https://wandb.ai/antonii-belyshev/neuron%20sparsity</a>"
      ],
      "text/plain": [
       "<IPython.core.display.HTML object>"
      ]
     },
     "metadata": {},
     "output_type": "display_data"
    },
    {
     "data": {
      "text/html": [
       " View run at <a href='https://wandb.ai/antonii-belyshev/neuron%20sparsity/runs/9abs5pm6' target=\"_blank\">https://wandb.ai/antonii-belyshev/neuron%20sparsity/runs/9abs5pm6</a>"
      ],
      "text/plain": [
       "<IPython.core.display.HTML object>"
      ]
     },
     "metadata": {},
     "output_type": "display_data"
    },
    {
     "data": {
      "text/html": [
       "<style>\n",
       "    table.wandb td:nth-child(1) { padding: 0 10px; text-align: left ; width: auto;} td:nth-child(2) {text-align: left ; width: 100%}\n",
       "    .wandb-row { display: flex; flex-direction: row; flex-wrap: wrap; justify-content: flex-start; width: 100% }\n",
       "    .wandb-col { display: flex; flex-direction: column; flex-basis: 100%; flex: 1; padding: 10px; }\n",
       "    </style>\n",
       "<div class=\"wandb-row\"><div class=\"wandb-col\"><h3>Run history:</h3><br/><table class=\"wandb\"><tr><td>accuracy</td><td>▁▅▇▇▇▇▇█████████████████████████████████</td></tr><tr><td>epoch</td><td>▁▁▁▁▂▂▂▂▂▃▃▃▃▃▃▄▄▄▄▄▅▅▅▅▅▅▆▆▆▆▆▆▇▇▇▇▇███</td></tr><tr><td>eval_loss</td><td>█▄▂▂▁▁▁▁▁▁▁▁▁▁▁▂▁▂▂▂▂▂▂▂▂▂▂▂▂▂▂▂▂▂▂▂▂▂▂▂</td></tr><tr><td>loss</td><td>█▅▄▄▃▃▂▂▂▂▁▁▂▁▁▁▁▁▁▁▁▁▁▁▁▁▁▁▁▁▁▁▁▁▁▁▁▁▁▁</td></tr></table><br/></div><div class=\"wandb-col\"><h3>Run summary:</h3><br/><table class=\"wandb\"><tr><td>accuracy</td><td>89.33</td></tr><tr><td>epoch</td><td>299</td></tr><tr><td>eval_loss</td><td>0.58378</td></tr><tr><td>loss</td><td>0.00142</td></tr></table><br/></div></div>"
      ],
      "text/plain": [
       "<IPython.core.display.HTML object>"
      ]
     },
     "metadata": {},
     "output_type": "display_data"
    },
    {
     "data": {
      "text/html": [
       " View run <strong style=\"color:#cdcd00\">default experiment</strong> at: <a href='https://wandb.ai/antonii-belyshev/neuron%20sparsity/runs/9abs5pm6' target=\"_blank\">https://wandb.ai/antonii-belyshev/neuron%20sparsity/runs/9abs5pm6</a><br/> View project at: <a href='https://wandb.ai/antonii-belyshev/neuron%20sparsity' target=\"_blank\">https://wandb.ai/antonii-belyshev/neuron%20sparsity</a><br/>Synced 5 W&B file(s), 0 media file(s), 0 artifact file(s) and 0 other file(s)"
      ],
      "text/plain": [
       "<IPython.core.display.HTML object>"
      ]
     },
     "metadata": {},
     "output_type": "display_data"
    },
    {
     "data": {
      "text/html": [
       "Find logs at: <code>./wandb/run-20240827_111640-9abs5pm6/logs</code>"
      ],
      "text/plain": [
       "<IPython.core.display.HTML object>"
      ]
     },
     "metadata": {},
     "output_type": "display_data"
    },
    {
     "data": {
      "text/html": [
       "The new W&B backend becomes opt-out in version 0.18.0; try it out with `wandb.require(\"core\")`! See https://wandb.me/wandb-core for more information."
      ],
      "text/plain": [
       "<IPython.core.display.HTML object>"
      ]
     },
     "metadata": {},
     "output_type": "display_data"
    }
   ],
   "source": [
    "trainer = utils.Trainer(vgg, train_loader, test_loader, optimizer, scheduler, epochs=300)\n",
    "trainer.train()"
   ]
  },
  {
   "cell_type": "code",
   "execution_count": 7,
   "metadata": {},
   "outputs": [
    {
     "data": {
      "text/plain": [
       "{'eval_loss': 0.5837773978710175, 'accuracy': 89.33, 'epoch': 300}"
      ]
     },
     "execution_count": 7,
     "metadata": {},
     "output_type": "execute_result"
    }
   ],
   "source": [
    "trainer.test(300)"
   ]
  },
  {
   "cell_type": "code",
   "execution_count": 8,
   "metadata": {},
   "outputs": [],
   "source": [
    "# torch.save(vgg.state_dict(), 'vgg16-warmup.pth')\n",
    "torch.save(vgg.state_dict(), f\"vgg16-{trainer.test(300)['accuracy']}%.pth\")"
   ]
  },
  {
   "cell_type": "code",
   "execution_count": 8,
   "metadata": {},
   "outputs": [
    {
     "data": {
      "text/plain": [
       "87.8"
      ]
     },
     "execution_count": 8,
     "metadata": {},
     "output_type": "execute_result"
    }
   ],
   "source": [
    "trainer.test(300)['accuracy']"
   ]
  },
  {
   "cell_type": "code",
   "execution_count": 9,
   "metadata": {},
   "outputs": [],
   "source": [
    "# # torch.save(vgg.state_dict(), 'vgg16-88.5%.pth')\n",
    "# vgg = utils.VGG(cfgs['VGG16'])\n",
    "# vgg.load_state_dict(torch.load('vgg16-88.5%.pth'))"
   ]
  },
  {
   "cell_type": "code",
   "execution_count": 10,
   "metadata": {},
   "outputs": [],
   "source": [
    "# bayesian_vgg = utils.BayesianVGG(cfgs['VGG16'])\n",
    "# bayesian_vgg.from_vgg(vgg.cpu())\n",
    "\n",
    "# optimizer = optim.SGD(bayesian_vgg.parameters(), lr=0.01, momentum=0.9)\n",
    "# scheduler = optim.lr_scheduler.StepLR(optimizer, step_size=1, gamma=0.98)\n",
    "\n",
    "\n",
    "# def reg_coef_lambda(epoch: int) -> float:\n",
    "#     return 1\n",
    "#     if epoch < 50:\n",
    "#         return epoch / 50\n",
    "#     else:\n",
    "#         return 1."
   ]
  },
  {
   "cell_type": "code",
   "execution_count": 11,
   "metadata": {},
   "outputs": [],
   "source": [
    "# trainer = utils.Trainer(bayesian_vgg, train_loader, test_loader, optimizer, scheduler, epochs=300, reg_coef_lambda=reg_coef_lambda)\n",
    "# trainer.train()"
   ]
  },
  {
   "cell_type": "code",
   "execution_count": 12,
   "metadata": {},
   "outputs": [],
   "source": [
    "# trainer.test(0)"
   ]
  },
  {
   "cell_type": "code",
   "execution_count": null,
   "metadata": {},
   "outputs": [],
   "source": []
  }
 ],
 "metadata": {
  "kernelspec": {
   "display_name": ".venv",
   "language": "python",
   "name": "python3"
  },
  "language_info": {
   "codemirror_mode": {
    "name": "ipython",
    "version": 3
   },
   "file_extension": ".py",
   "mimetype": "text/x-python",
   "name": "python",
   "nbconvert_exporter": "python",
   "pygments_lexer": "ipython3",
   "version": "3.10.14"
  }
 },
 "nbformat": 4,
 "nbformat_minor": 2
}
